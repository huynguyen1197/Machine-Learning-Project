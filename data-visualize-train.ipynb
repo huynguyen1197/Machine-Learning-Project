{
 "cells": [
  {
   "cell_type": "code",
   "execution_count": 2,
   "metadata": {},
   "outputs": [],
   "source": [
    "import numpy as np\n",
    "import pandas as pd\n",
    "import matplotlib.pyplot as plt\n",
    "import seaborn as sns\n",
    "sns.set_style(\"darkgrid\")"
   ]
  },
  {
   "cell_type": "code",
   "execution_count": 3,
   "metadata": {},
   "outputs": [],
   "source": [
    "names = (['B1', 'B2', 'B3'] + ['C' + str(k) for k in range(1, 140)] + ['YEAR'] +\n",
    "         ['C140', 'C141', 'C142'] + ['CT' + str(k) for k in range(1, 27)] +\n",
    "         ['CH' + str(k) for k in range(1, 5)] + ['Class']\n",
    "        )"
   ]
  },
  {
   "cell_type": "code",
   "execution_count": 4,
   "metadata": {},
   "outputs": [],
   "source": [
    "dat = pd.read_csv('train.txt',  delimiter='\\s+', names=names)"
   ]
  },
  {
   "cell_type": "code",
   "execution_count": 5,
   "metadata": {},
   "outputs": [
    {
     "data": {
      "text/html": [
       "<div>\n",
       "<style scoped>\n",
       "    .dataframe tbody tr th:only-of-type {\n",
       "        vertical-align: middle;\n",
       "    }\n",
       "\n",
       "    .dataframe tbody tr th {\n",
       "        vertical-align: top;\n",
       "    }\n",
       "\n",
       "    .dataframe thead th {\n",
       "        text-align: right;\n",
       "    }\n",
       "</style>\n",
       "<table border=\"1\" class=\"dataframe\">\n",
       "  <thead>\n",
       "    <tr style=\"text-align: right;\">\n",
       "      <th></th>\n",
       "      <th>B1</th>\n",
       "      <th>B2</th>\n",
       "      <th>B3</th>\n",
       "      <th>C1</th>\n",
       "      <th>C2</th>\n",
       "      <th>C3</th>\n",
       "      <th>C4</th>\n",
       "      <th>C5</th>\n",
       "      <th>C6</th>\n",
       "      <th>C7</th>\n",
       "      <th>...</th>\n",
       "      <th>CT22</th>\n",
       "      <th>CT23</th>\n",
       "      <th>CT24</th>\n",
       "      <th>CT25</th>\n",
       "      <th>CT26</th>\n",
       "      <th>CH1</th>\n",
       "      <th>CH2</th>\n",
       "      <th>CH3</th>\n",
       "      <th>CH4</th>\n",
       "      <th>Class</th>\n",
       "    </tr>\n",
       "  </thead>\n",
       "  <tbody>\n",
       "    <tr>\n",
       "      <th>0</th>\n",
       "      <td>0</td>\n",
       "      <td>0</td>\n",
       "      <td>1</td>\n",
       "      <td>1.260</td>\n",
       "      <td>1.17</td>\n",
       "      <td>0.720</td>\n",
       "      <td>4.59</td>\n",
       "      <td>0.45</td>\n",
       "      <td>0.765</td>\n",
       "      <td>0.54</td>\n",
       "      <td>...</td>\n",
       "      <td>3.0</td>\n",
       "      <td>2.0</td>\n",
       "      <td>2.0</td>\n",
       "      <td>1.0</td>\n",
       "      <td>3.0</td>\n",
       "      <td>0.0</td>\n",
       "      <td>0.0</td>\n",
       "      <td>0.0</td>\n",
       "      <td>0.0</td>\n",
       "      <td>1.0</td>\n",
       "    </tr>\n",
       "    <tr>\n",
       "      <th>1</th>\n",
       "      <td>0</td>\n",
       "      <td>1</td>\n",
       "      <td>0</td>\n",
       "      <td>0.450</td>\n",
       "      <td>0.81</td>\n",
       "      <td>0.000</td>\n",
       "      <td>0.00</td>\n",
       "      <td>0.00</td>\n",
       "      <td>0.855</td>\n",
       "      <td>0.00</td>\n",
       "      <td>...</td>\n",
       "      <td>3.0</td>\n",
       "      <td>2.0</td>\n",
       "      <td>1.0</td>\n",
       "      <td>1.0</td>\n",
       "      <td>3.0</td>\n",
       "      <td>0.0</td>\n",
       "      <td>0.0</td>\n",
       "      <td>0.0</td>\n",
       "      <td>0.0</td>\n",
       "      <td>1.0</td>\n",
       "    </tr>\n",
       "    <tr>\n",
       "      <th>2</th>\n",
       "      <td>0</td>\n",
       "      <td>0</td>\n",
       "      <td>1</td>\n",
       "      <td>0.540</td>\n",
       "      <td>2.88</td>\n",
       "      <td>0.000</td>\n",
       "      <td>0.00</td>\n",
       "      <td>0.00</td>\n",
       "      <td>0.765</td>\n",
       "      <td>0.00</td>\n",
       "      <td>...</td>\n",
       "      <td>3.0</td>\n",
       "      <td>2.0</td>\n",
       "      <td>2.0</td>\n",
       "      <td>1.0</td>\n",
       "      <td>3.0</td>\n",
       "      <td>0.0</td>\n",
       "      <td>0.0</td>\n",
       "      <td>0.0</td>\n",
       "      <td>0.0</td>\n",
       "      <td>1.0</td>\n",
       "    </tr>\n",
       "    <tr>\n",
       "      <th>3</th>\n",
       "      <td>0</td>\n",
       "      <td>0</td>\n",
       "      <td>1</td>\n",
       "      <td>0.810</td>\n",
       "      <td>1.35</td>\n",
       "      <td>0.450</td>\n",
       "      <td>0.00</td>\n",
       "      <td>0.00</td>\n",
       "      <td>0.000</td>\n",
       "      <td>0.72</td>\n",
       "      <td>...</td>\n",
       "      <td>3.0</td>\n",
       "      <td>2.0</td>\n",
       "      <td>2.0</td>\n",
       "      <td>1.0</td>\n",
       "      <td>3.0</td>\n",
       "      <td>0.0</td>\n",
       "      <td>0.0</td>\n",
       "      <td>0.0</td>\n",
       "      <td>0.0</td>\n",
       "      <td>1.0</td>\n",
       "    </tr>\n",
       "    <tr>\n",
       "      <th>4</th>\n",
       "      <td>0</td>\n",
       "      <td>0</td>\n",
       "      <td>1</td>\n",
       "      <td>0.900</td>\n",
       "      <td>1.17</td>\n",
       "      <td>0.765</td>\n",
       "      <td>0.00</td>\n",
       "      <td>0.00</td>\n",
       "      <td>0.630</td>\n",
       "      <td>0.81</td>\n",
       "      <td>...</td>\n",
       "      <td>4.0</td>\n",
       "      <td>3.0</td>\n",
       "      <td>2.0</td>\n",
       "      <td>1.0</td>\n",
       "      <td>3.0</td>\n",
       "      <td>0.0</td>\n",
       "      <td>0.0</td>\n",
       "      <td>0.0</td>\n",
       "      <td>0.0</td>\n",
       "      <td>1.0</td>\n",
       "    </tr>\n",
       "    <tr>\n",
       "      <th>...</th>\n",
       "      <td>...</td>\n",
       "      <td>...</td>\n",
       "      <td>...</td>\n",
       "      <td>...</td>\n",
       "      <td>...</td>\n",
       "      <td>...</td>\n",
       "      <td>...</td>\n",
       "      <td>...</td>\n",
       "      <td>...</td>\n",
       "      <td>...</td>\n",
       "      <td>...</td>\n",
       "      <td>...</td>\n",
       "      <td>...</td>\n",
       "      <td>...</td>\n",
       "      <td>...</td>\n",
       "      <td>...</td>\n",
       "      <td>...</td>\n",
       "      <td>...</td>\n",
       "      <td>...</td>\n",
       "      <td>...</td>\n",
       "      <td>...</td>\n",
       "    </tr>\n",
       "    <tr>\n",
       "      <th>6992</th>\n",
       "      <td>0</td>\n",
       "      <td>0</td>\n",
       "      <td>1</td>\n",
       "      <td>0.810</td>\n",
       "      <td>1.26</td>\n",
       "      <td>0.810</td>\n",
       "      <td>0.54</td>\n",
       "      <td>0.54</td>\n",
       "      <td>2.340</td>\n",
       "      <td>1.44</td>\n",
       "      <td>...</td>\n",
       "      <td>6.0</td>\n",
       "      <td>6.0</td>\n",
       "      <td>5.0</td>\n",
       "      <td>4.0</td>\n",
       "      <td>5.0</td>\n",
       "      <td>12.0</td>\n",
       "      <td>0.0</td>\n",
       "      <td>0.0</td>\n",
       "      <td>0.0</td>\n",
       "      <td>1.0</td>\n",
       "    </tr>\n",
       "    <tr>\n",
       "      <th>6993</th>\n",
       "      <td>0</td>\n",
       "      <td>1</td>\n",
       "      <td>0</td>\n",
       "      <td>0.855</td>\n",
       "      <td>1.26</td>\n",
       "      <td>0.720</td>\n",
       "      <td>0.00</td>\n",
       "      <td>0.00</td>\n",
       "      <td>0.810</td>\n",
       "      <td>0.72</td>\n",
       "      <td>...</td>\n",
       "      <td>3.0</td>\n",
       "      <td>2.0</td>\n",
       "      <td>2.0</td>\n",
       "      <td>1.0</td>\n",
       "      <td>3.0</td>\n",
       "      <td>0.0</td>\n",
       "      <td>0.0</td>\n",
       "      <td>0.0</td>\n",
       "      <td>0.0</td>\n",
       "      <td>1.0</td>\n",
       "    </tr>\n",
       "    <tr>\n",
       "      <th>6994</th>\n",
       "      <td>0</td>\n",
       "      <td>0</td>\n",
       "      <td>1</td>\n",
       "      <td>2.475</td>\n",
       "      <td>2.79</td>\n",
       "      <td>0.000</td>\n",
       "      <td>0.00</td>\n",
       "      <td>0.00</td>\n",
       "      <td>0.810</td>\n",
       "      <td>0.00</td>\n",
       "      <td>...</td>\n",
       "      <td>2.0</td>\n",
       "      <td>1.0</td>\n",
       "      <td>1.0</td>\n",
       "      <td>1.0</td>\n",
       "      <td>2.0</td>\n",
       "      <td>0.0</td>\n",
       "      <td>0.0</td>\n",
       "      <td>0.0</td>\n",
       "      <td>0.0</td>\n",
       "      <td>1.0</td>\n",
       "    </tr>\n",
       "    <tr>\n",
       "      <th>6995</th>\n",
       "      <td>0</td>\n",
       "      <td>0</td>\n",
       "      <td>1</td>\n",
       "      <td>7.830</td>\n",
       "      <td>1.80</td>\n",
       "      <td>0.540</td>\n",
       "      <td>0.00</td>\n",
       "      <td>0.00</td>\n",
       "      <td>0.990</td>\n",
       "      <td>0.00</td>\n",
       "      <td>...</td>\n",
       "      <td>2.0</td>\n",
       "      <td>2.0</td>\n",
       "      <td>1.0</td>\n",
       "      <td>1.0</td>\n",
       "      <td>2.0</td>\n",
       "      <td>0.0</td>\n",
       "      <td>0.0</td>\n",
       "      <td>0.0</td>\n",
       "      <td>0.0</td>\n",
       "      <td>1.0</td>\n",
       "    </tr>\n",
       "    <tr>\n",
       "      <th>6996</th>\n",
       "      <td>1</td>\n",
       "      <td>0</td>\n",
       "      <td>0</td>\n",
       "      <td>0.000</td>\n",
       "      <td>153.45</td>\n",
       "      <td>0.000</td>\n",
       "      <td>0.00</td>\n",
       "      <td>0.00</td>\n",
       "      <td>0.810</td>\n",
       "      <td>0.00</td>\n",
       "      <td>...</td>\n",
       "      <td>NaN</td>\n",
       "      <td>NaN</td>\n",
       "      <td>NaN</td>\n",
       "      <td>NaN</td>\n",
       "      <td>NaN</td>\n",
       "      <td>NaN</td>\n",
       "      <td>NaN</td>\n",
       "      <td>NaN</td>\n",
       "      <td>NaN</td>\n",
       "      <td>NaN</td>\n",
       "    </tr>\n",
       "  </tbody>\n",
       "</table>\n",
       "<p>6997 rows × 177 columns</p>\n",
       "</div>"
      ],
      "text/plain": [
       "      B1  B2  B3     C1      C2     C3    C4    C5     C6    C7  ...  CT22  \\\n",
       "0      0   0   1  1.260    1.17  0.720  4.59  0.45  0.765  0.54  ...   3.0   \n",
       "1      0   1   0  0.450    0.81  0.000  0.00  0.00  0.855  0.00  ...   3.0   \n",
       "2      0   0   1  0.540    2.88  0.000  0.00  0.00  0.765  0.00  ...   3.0   \n",
       "3      0   0   1  0.810    1.35  0.450  0.00  0.00  0.000  0.72  ...   3.0   \n",
       "4      0   0   1  0.900    1.17  0.765  0.00  0.00  0.630  0.81  ...   4.0   \n",
       "...   ..  ..  ..    ...     ...    ...   ...   ...    ...   ...  ...   ...   \n",
       "6992   0   0   1  0.810    1.26  0.810  0.54  0.54  2.340  1.44  ...   6.0   \n",
       "6993   0   1   0  0.855    1.26  0.720  0.00  0.00  0.810  0.72  ...   3.0   \n",
       "6994   0   0   1  2.475    2.79  0.000  0.00  0.00  0.810  0.00  ...   2.0   \n",
       "6995   0   0   1  7.830    1.80  0.540  0.00  0.00  0.990  0.00  ...   2.0   \n",
       "6996   1   0   0  0.000  153.45  0.000  0.00  0.00  0.810  0.00  ...   NaN   \n",
       "\n",
       "      CT23  CT24  CT25  CT26   CH1  CH2  CH3  CH4  Class  \n",
       "0      2.0   2.0   1.0   3.0   0.0  0.0  0.0  0.0    1.0  \n",
       "1      2.0   1.0   1.0   3.0   0.0  0.0  0.0  0.0    1.0  \n",
       "2      2.0   2.0   1.0   3.0   0.0  0.0  0.0  0.0    1.0  \n",
       "3      2.0   2.0   1.0   3.0   0.0  0.0  0.0  0.0    1.0  \n",
       "4      3.0   2.0   1.0   3.0   0.0  0.0  0.0  0.0    1.0  \n",
       "...    ...   ...   ...   ...   ...  ...  ...  ...    ...  \n",
       "6992   6.0   5.0   4.0   5.0  12.0  0.0  0.0  0.0    1.0  \n",
       "6993   2.0   2.0   1.0   3.0   0.0  0.0  0.0  0.0    1.0  \n",
       "6994   1.0   1.0   1.0   2.0   0.0  0.0  0.0  0.0    1.0  \n",
       "6995   2.0   1.0   1.0   2.0   0.0  0.0  0.0  0.0    1.0  \n",
       "6996   NaN   NaN   NaN   NaN   NaN  NaN  NaN  NaN    NaN  \n",
       "\n",
       "[6997 rows x 177 columns]"
      ]
     },
     "execution_count": 5,
     "metadata": {},
     "output_type": "execute_result"
    }
   ],
   "source": [
    "dat"
   ]
  },
  {
   "cell_type": "code",
   "execution_count": 6,
   "metadata": {},
   "outputs": [
    {
     "data": {
      "text/plain": [
       "(6997, 177)"
      ]
     },
     "execution_count": 6,
     "metadata": {},
     "output_type": "execute_result"
    }
   ],
   "source": [
    "dat.shape"
   ]
  },
  {
   "cell_type": "code",
   "execution_count": 7,
   "metadata": {},
   "outputs": [],
   "source": [
    "dat = dat.dropna()"
   ]
  },
  {
   "cell_type": "code",
   "execution_count": 8,
   "metadata": {},
   "outputs": [
    {
     "data": {
      "text/html": [
       "<div>\n",
       "<style scoped>\n",
       "    .dataframe tbody tr th:only-of-type {\n",
       "        vertical-align: middle;\n",
       "    }\n",
       "\n",
       "    .dataframe tbody tr th {\n",
       "        vertical-align: top;\n",
       "    }\n",
       "\n",
       "    .dataframe thead th {\n",
       "        text-align: right;\n",
       "    }\n",
       "</style>\n",
       "<table border=\"1\" class=\"dataframe\">\n",
       "  <thead>\n",
       "    <tr style=\"text-align: right;\">\n",
       "      <th></th>\n",
       "      <th>B1</th>\n",
       "      <th>B2</th>\n",
       "      <th>B3</th>\n",
       "      <th>C1</th>\n",
       "      <th>C2</th>\n",
       "      <th>C3</th>\n",
       "      <th>C4</th>\n",
       "      <th>C5</th>\n",
       "      <th>C6</th>\n",
       "      <th>C7</th>\n",
       "      <th>...</th>\n",
       "      <th>CT22</th>\n",
       "      <th>CT23</th>\n",
       "      <th>CT24</th>\n",
       "      <th>CT25</th>\n",
       "      <th>CT26</th>\n",
       "      <th>CH1</th>\n",
       "      <th>CH2</th>\n",
       "      <th>CH3</th>\n",
       "      <th>CH4</th>\n",
       "      <th>Class</th>\n",
       "    </tr>\n",
       "  </thead>\n",
       "  <tbody>\n",
       "    <tr>\n",
       "      <th>0</th>\n",
       "      <td>0</td>\n",
       "      <td>0</td>\n",
       "      <td>1</td>\n",
       "      <td>1.260</td>\n",
       "      <td>1.17</td>\n",
       "      <td>0.720</td>\n",
       "      <td>4.59</td>\n",
       "      <td>0.45</td>\n",
       "      <td>0.765</td>\n",
       "      <td>0.54</td>\n",
       "      <td>...</td>\n",
       "      <td>3.0</td>\n",
       "      <td>2.0</td>\n",
       "      <td>2.0</td>\n",
       "      <td>1.0</td>\n",
       "      <td>3.0</td>\n",
       "      <td>0.0</td>\n",
       "      <td>0.0</td>\n",
       "      <td>0.0</td>\n",
       "      <td>0.0</td>\n",
       "      <td>1.0</td>\n",
       "    </tr>\n",
       "    <tr>\n",
       "      <th>1</th>\n",
       "      <td>0</td>\n",
       "      <td>1</td>\n",
       "      <td>0</td>\n",
       "      <td>0.450</td>\n",
       "      <td>0.81</td>\n",
       "      <td>0.000</td>\n",
       "      <td>0.00</td>\n",
       "      <td>0.00</td>\n",
       "      <td>0.855</td>\n",
       "      <td>0.00</td>\n",
       "      <td>...</td>\n",
       "      <td>3.0</td>\n",
       "      <td>2.0</td>\n",
       "      <td>1.0</td>\n",
       "      <td>1.0</td>\n",
       "      <td>3.0</td>\n",
       "      <td>0.0</td>\n",
       "      <td>0.0</td>\n",
       "      <td>0.0</td>\n",
       "      <td>0.0</td>\n",
       "      <td>1.0</td>\n",
       "    </tr>\n",
       "    <tr>\n",
       "      <th>2</th>\n",
       "      <td>0</td>\n",
       "      <td>0</td>\n",
       "      <td>1</td>\n",
       "      <td>0.540</td>\n",
       "      <td>2.88</td>\n",
       "      <td>0.000</td>\n",
       "      <td>0.00</td>\n",
       "      <td>0.00</td>\n",
       "      <td>0.765</td>\n",
       "      <td>0.00</td>\n",
       "      <td>...</td>\n",
       "      <td>3.0</td>\n",
       "      <td>2.0</td>\n",
       "      <td>2.0</td>\n",
       "      <td>1.0</td>\n",
       "      <td>3.0</td>\n",
       "      <td>0.0</td>\n",
       "      <td>0.0</td>\n",
       "      <td>0.0</td>\n",
       "      <td>0.0</td>\n",
       "      <td>1.0</td>\n",
       "    </tr>\n",
       "    <tr>\n",
       "      <th>3</th>\n",
       "      <td>0</td>\n",
       "      <td>0</td>\n",
       "      <td>1</td>\n",
       "      <td>0.810</td>\n",
       "      <td>1.35</td>\n",
       "      <td>0.450</td>\n",
       "      <td>0.00</td>\n",
       "      <td>0.00</td>\n",
       "      <td>0.000</td>\n",
       "      <td>0.72</td>\n",
       "      <td>...</td>\n",
       "      <td>3.0</td>\n",
       "      <td>2.0</td>\n",
       "      <td>2.0</td>\n",
       "      <td>1.0</td>\n",
       "      <td>3.0</td>\n",
       "      <td>0.0</td>\n",
       "      <td>0.0</td>\n",
       "      <td>0.0</td>\n",
       "      <td>0.0</td>\n",
       "      <td>1.0</td>\n",
       "    </tr>\n",
       "    <tr>\n",
       "      <th>4</th>\n",
       "      <td>0</td>\n",
       "      <td>0</td>\n",
       "      <td>1</td>\n",
       "      <td>0.900</td>\n",
       "      <td>1.17</td>\n",
       "      <td>0.765</td>\n",
       "      <td>0.00</td>\n",
       "      <td>0.00</td>\n",
       "      <td>0.630</td>\n",
       "      <td>0.81</td>\n",
       "      <td>...</td>\n",
       "      <td>4.0</td>\n",
       "      <td>3.0</td>\n",
       "      <td>2.0</td>\n",
       "      <td>1.0</td>\n",
       "      <td>3.0</td>\n",
       "      <td>0.0</td>\n",
       "      <td>0.0</td>\n",
       "      <td>0.0</td>\n",
       "      <td>0.0</td>\n",
       "      <td>1.0</td>\n",
       "    </tr>\n",
       "    <tr>\n",
       "      <th>...</th>\n",
       "      <td>...</td>\n",
       "      <td>...</td>\n",
       "      <td>...</td>\n",
       "      <td>...</td>\n",
       "      <td>...</td>\n",
       "      <td>...</td>\n",
       "      <td>...</td>\n",
       "      <td>...</td>\n",
       "      <td>...</td>\n",
       "      <td>...</td>\n",
       "      <td>...</td>\n",
       "      <td>...</td>\n",
       "      <td>...</td>\n",
       "      <td>...</td>\n",
       "      <td>...</td>\n",
       "      <td>...</td>\n",
       "      <td>...</td>\n",
       "      <td>...</td>\n",
       "      <td>...</td>\n",
       "      <td>...</td>\n",
       "      <td>...</td>\n",
       "    </tr>\n",
       "    <tr>\n",
       "      <th>6991</th>\n",
       "      <td>1</td>\n",
       "      <td>0</td>\n",
       "      <td>0</td>\n",
       "      <td>0.810</td>\n",
       "      <td>0.99</td>\n",
       "      <td>0.630</td>\n",
       "      <td>0.63</td>\n",
       "      <td>0.00</td>\n",
       "      <td>2.340</td>\n",
       "      <td>1.44</td>\n",
       "      <td>...</td>\n",
       "      <td>6.0</td>\n",
       "      <td>6.0</td>\n",
       "      <td>5.0</td>\n",
       "      <td>4.0</td>\n",
       "      <td>5.0</td>\n",
       "      <td>10.0</td>\n",
       "      <td>0.0</td>\n",
       "      <td>0.0</td>\n",
       "      <td>0.0</td>\n",
       "      <td>0.0</td>\n",
       "    </tr>\n",
       "    <tr>\n",
       "      <th>6992</th>\n",
       "      <td>0</td>\n",
       "      <td>0</td>\n",
       "      <td>1</td>\n",
       "      <td>0.810</td>\n",
       "      <td>1.26</td>\n",
       "      <td>0.810</td>\n",
       "      <td>0.54</td>\n",
       "      <td>0.54</td>\n",
       "      <td>2.340</td>\n",
       "      <td>1.44</td>\n",
       "      <td>...</td>\n",
       "      <td>6.0</td>\n",
       "      <td>6.0</td>\n",
       "      <td>5.0</td>\n",
       "      <td>4.0</td>\n",
       "      <td>5.0</td>\n",
       "      <td>12.0</td>\n",
       "      <td>0.0</td>\n",
       "      <td>0.0</td>\n",
       "      <td>0.0</td>\n",
       "      <td>1.0</td>\n",
       "    </tr>\n",
       "    <tr>\n",
       "      <th>6993</th>\n",
       "      <td>0</td>\n",
       "      <td>1</td>\n",
       "      <td>0</td>\n",
       "      <td>0.855</td>\n",
       "      <td>1.26</td>\n",
       "      <td>0.720</td>\n",
       "      <td>0.00</td>\n",
       "      <td>0.00</td>\n",
       "      <td>0.810</td>\n",
       "      <td>0.72</td>\n",
       "      <td>...</td>\n",
       "      <td>3.0</td>\n",
       "      <td>2.0</td>\n",
       "      <td>2.0</td>\n",
       "      <td>1.0</td>\n",
       "      <td>3.0</td>\n",
       "      <td>0.0</td>\n",
       "      <td>0.0</td>\n",
       "      <td>0.0</td>\n",
       "      <td>0.0</td>\n",
       "      <td>1.0</td>\n",
       "    </tr>\n",
       "    <tr>\n",
       "      <th>6994</th>\n",
       "      <td>0</td>\n",
       "      <td>0</td>\n",
       "      <td>1</td>\n",
       "      <td>2.475</td>\n",
       "      <td>2.79</td>\n",
       "      <td>0.000</td>\n",
       "      <td>0.00</td>\n",
       "      <td>0.00</td>\n",
       "      <td>0.810</td>\n",
       "      <td>0.00</td>\n",
       "      <td>...</td>\n",
       "      <td>2.0</td>\n",
       "      <td>1.0</td>\n",
       "      <td>1.0</td>\n",
       "      <td>1.0</td>\n",
       "      <td>2.0</td>\n",
       "      <td>0.0</td>\n",
       "      <td>0.0</td>\n",
       "      <td>0.0</td>\n",
       "      <td>0.0</td>\n",
       "      <td>1.0</td>\n",
       "    </tr>\n",
       "    <tr>\n",
       "      <th>6995</th>\n",
       "      <td>0</td>\n",
       "      <td>0</td>\n",
       "      <td>1</td>\n",
       "      <td>7.830</td>\n",
       "      <td>1.80</td>\n",
       "      <td>0.540</td>\n",
       "      <td>0.00</td>\n",
       "      <td>0.00</td>\n",
       "      <td>0.990</td>\n",
       "      <td>0.00</td>\n",
       "      <td>...</td>\n",
       "      <td>2.0</td>\n",
       "      <td>2.0</td>\n",
       "      <td>1.0</td>\n",
       "      <td>1.0</td>\n",
       "      <td>2.0</td>\n",
       "      <td>0.0</td>\n",
       "      <td>0.0</td>\n",
       "      <td>0.0</td>\n",
       "      <td>0.0</td>\n",
       "      <td>1.0</td>\n",
       "    </tr>\n",
       "  </tbody>\n",
       "</table>\n",
       "<p>6996 rows × 177 columns</p>\n",
       "</div>"
      ],
      "text/plain": [
       "      B1  B2  B3     C1    C2     C3    C4    C5     C6    C7  ...  CT22  \\\n",
       "0      0   0   1  1.260  1.17  0.720  4.59  0.45  0.765  0.54  ...   3.0   \n",
       "1      0   1   0  0.450  0.81  0.000  0.00  0.00  0.855  0.00  ...   3.0   \n",
       "2      0   0   1  0.540  2.88  0.000  0.00  0.00  0.765  0.00  ...   3.0   \n",
       "3      0   0   1  0.810  1.35  0.450  0.00  0.00  0.000  0.72  ...   3.0   \n",
       "4      0   0   1  0.900  1.17  0.765  0.00  0.00  0.630  0.81  ...   4.0   \n",
       "...   ..  ..  ..    ...   ...    ...   ...   ...    ...   ...  ...   ...   \n",
       "6991   1   0   0  0.810  0.99  0.630  0.63  0.00  2.340  1.44  ...   6.0   \n",
       "6992   0   0   1  0.810  1.26  0.810  0.54  0.54  2.340  1.44  ...   6.0   \n",
       "6993   0   1   0  0.855  1.26  0.720  0.00  0.00  0.810  0.72  ...   3.0   \n",
       "6994   0   0   1  2.475  2.79  0.000  0.00  0.00  0.810  0.00  ...   2.0   \n",
       "6995   0   0   1  7.830  1.80  0.540  0.00  0.00  0.990  0.00  ...   2.0   \n",
       "\n",
       "      CT23  CT24  CT25  CT26   CH1  CH2  CH3  CH4  Class  \n",
       "0      2.0   2.0   1.0   3.0   0.0  0.0  0.0  0.0    1.0  \n",
       "1      2.0   1.0   1.0   3.0   0.0  0.0  0.0  0.0    1.0  \n",
       "2      2.0   2.0   1.0   3.0   0.0  0.0  0.0  0.0    1.0  \n",
       "3      2.0   2.0   1.0   3.0   0.0  0.0  0.0  0.0    1.0  \n",
       "4      3.0   2.0   1.0   3.0   0.0  0.0  0.0  0.0    1.0  \n",
       "...    ...   ...   ...   ...   ...  ...  ...  ...    ...  \n",
       "6991   6.0   5.0   4.0   5.0  10.0  0.0  0.0  0.0    0.0  \n",
       "6992   6.0   5.0   4.0   5.0  12.0  0.0  0.0  0.0    1.0  \n",
       "6993   2.0   2.0   1.0   3.0   0.0  0.0  0.0  0.0    1.0  \n",
       "6994   1.0   1.0   1.0   2.0   0.0  0.0  0.0  0.0    1.0  \n",
       "6995   2.0   1.0   1.0   2.0   0.0  0.0  0.0  0.0    1.0  \n",
       "\n",
       "[6996 rows x 177 columns]"
      ]
     },
     "execution_count": 8,
     "metadata": {},
     "output_type": "execute_result"
    }
   ],
   "source": [
    "dat"
   ]
  },
  {
   "cell_type": "code",
   "execution_count": 9,
   "metadata": {},
   "outputs": [],
   "source": [
    "y = dat['Class']\n",
    "X = dat.copy().drop(['Class'], axis=1)"
   ]
  },
  {
   "cell_type": "code",
   "execution_count": 8,
   "metadata": {},
   "outputs": [],
   "source": [
    "from sklearn.decomposition import PCA"
   ]
  },
  {
   "cell_type": "code",
   "execution_count": 20,
   "metadata": {},
   "outputs": [],
   "source": [
    "pca = PCA(n_components=2)\n",
    "X_2dim = pca.fit_transform(X.drop(['B1', 'B2', 'B3', 'YEAR'], axis=1))"
   ]
  },
  {
   "cell_type": "code",
   "execution_count": 21,
   "metadata": {},
   "outputs": [
    {
     "data": {
      "text/plain": [
       "<matplotlib.collections.PathCollection at 0x250a6290220>"
      ]
     },
     "execution_count": 21,
     "metadata": {},
     "output_type": "execute_result"
    },
    {
     "data": {
      "image/png": "[encoded data removed]",
      "text/plain": [
       "<Figure size 432x288 with 1 Axes>"
      ]
     },
     "metadata": {},
     "output_type": "display_data"
    }
   ],
   "source": [
    "plt.scatter(X_2dim[:, 0], X_2dim[:, 1], c = y)"
   ]
  },
  {
   "cell_type": "markdown",
   "metadata": {},
   "source": [
    "Project data into 2 principle components, it seems hard to see the correlation with the classes."
   ]
  },
  {
   "cell_type": "code",
   "execution_count": 30,
   "metadata": {},
   "outputs": [
    {
     "data": {
      "text/plain": [
       "[<matplotlib.lines.Line2D at 0x250a6327850>]"
      ]
     },
     "execution_count": 30,
     "metadata": {},
     "output_type": "execute_result"
    },
    {
     "data": {
      "image/png": "[encoded data removed]",
      "text/plain": [
       "<Figure size 432x288 with 1 Axes>"
      ]
     },
     "metadata": {},
     "output_type": "display_data"
    }
   ],
   "source": [
    "plt.plot(np.arange(2001, 2006),  dat[['YEAR', 'Class']].groupby('YEAR').mean())"
   ]
  },
  {
   "cell_type": "markdown",
   "metadata": {},
   "source": [
    "See the trend by time."
   ]
  },
  {
   "cell_type": "code",
   "execution_count": null,
   "metadata": {},
   "outputs": [],
   "source": []
  },
  {
   "cell_type": "code",
   "execution_count": null,
   "metadata": {},
   "outputs": [],
   "source": []
  },
  {
   "cell_type": "code",
   "execution_count": null,
   "metadata": {},
   "outputs": [],
   "source": []
  },
  {
   "cell_type": "code",
   "execution_count": null,
   "metadata": {},
   "outputs": [],
   "source": []
  },
  {
   "cell_type": "code",
   "execution_count": null,
   "metadata": {},
   "outputs": [],
   "source": []
  },
  {
   "cell_type": "code",
   "execution_count": null,
   "metadata": {},
   "outputs": [],
   "source": []
  },
  {
   "cell_type": "markdown",
   "metadata": {},
   "source": [
    "## Random forest "
   ]
  },
  {
   "cell_type": "code",
   "execution_count": 10,
   "metadata": {},
   "outputs": [],
   "source": [
    "from sklearn.model_selection import train_test_split\n",
    "from sklearn.ensemble import RandomForestClassifier\n",
    "from sklearn import svm\n",
    "from sklearn.model_selection import cross_val_score\n",
    "from sklearn.model_selection import ShuffleSplit\n",
    "from sklearn.model_selection import KFold\n",
    "import itertools as it"
   ]
  },
  {
   "cell_type": "code",
   "execution_count": 11,
   "metadata": {},
   "outputs": [],
   "source": [
    "X_train, X_test, y_train, y_test = train_test_split(X, y, test_size=0.1, random_state=1)"
   ]
  },
  {
   "cell_type": "code",
   "execution_count": 12,
   "metadata": {},
   "outputs": [
    {
     "data": {
      "text/plain": [
       "RandomForestClassifier()"
      ]
     },
     "execution_count": 12,
     "metadata": {},
     "output_type": "execute_result"
    }
   ],
   "source": [
    "rf = RandomForestClassifier()\n",
    "rf.fit(X_train, y_train)"
   ]
  },
  {
   "cell_type": "code",
   "execution_count": 13,
   "metadata": {},
   "outputs": [],
   "source": [
    "y_pred = rf.predict(X_test)"
   ]
  },
  {
   "cell_type": "code",
   "execution_count": 14,
   "metadata": {},
   "outputs": [
    {
     "data": {
      "text/plain": [
       "0.7342857142857143"
      ]
     },
     "execution_count": 14,
     "metadata": {},
     "output_type": "execute_result"
    }
   ],
   "source": [
    "sum(y_pred == y_test) / len(y_test)"
   ]
  },
  {
   "cell_type": "code",
   "execution_count": 15,
   "metadata": {},
   "outputs": [
    {
     "data": {
      "text/plain": [
       "0.9996823379923762"
      ]
     },
     "execution_count": 15,
     "metadata": {},
     "output_type": "execute_result"
    }
   ],
   "source": [
    "rf.score(X_train, y_train) ##over-fitted"
   ]
  },
  {
   "cell_type": "markdown",
   "metadata": {},
   "source": [
    "Let's do a cross-validation and then grid search to find a set of parameters to avoid overfitting."
   ]
  },
  {
   "cell_type": "code",
   "execution_count": 16,
   "metadata": {},
   "outputs": [
    {
     "data": {
      "text/plain": [
       "array([0.72714286, 0.71285714, 0.70714286, 0.7       , 0.70571429])"
      ]
     },
     "execution_count": 16,
     "metadata": {},
     "output_type": "execute_result"
    }
   ],
   "source": [
    "n_sample = X.shape[0]\n",
    "cv = ShuffleSplit(n_splits=5, test_size=0.1, random_state=0)\n",
    "rf = RandomForestClassifier()\n",
    "cross_val_score(rf, X, y, cv=cv)"
   ]
  },
  {
   "cell_type": "code",
   "execution_count": 32,
   "metadata": {},
   "outputs": [],
   "source": [
    "kf = KFold(n_splits=5)\n",
    "\n",
    "params = {\n",
    "    'n_estimators': [80, 100],\n",
    "    'max_depth': [10, None]\n",
    "}\n",
    "\n",
    "allNames = sorted(params)\n",
    "combinations = it.product(*(params[Name] for Name in allNames))\n",
    "combi = list(combinations)\n",
    "accs = []\n",
    "\n",
    "for para in combi:\n",
    "    dict_para = dict(zip(allNames, list(para)))\n",
    "    dict_acc = dict_para.copy()\n",
    "    clf = RandomForestClassifier(**dict_para)\n",
    "    scores = []\n",
    "    for train_index, test_index in kf.split(X):\n",
    "        X_train, X_test = X.values[train_index], X.values[test_index]\n",
    "        y_train, y_test = y.values[train_index], y.values[test_index]\n",
    "        clf.fit(X_train, y_train)\n",
    "        score = clf.score(X_test, y_test)\n",
    "        scores.append(score)\n",
    "    mean_score = np.mean(score)\n",
    "    dict_acc.update({\n",
    "        'acc': mean_score\n",
    "    })\n",
    "    accs.append(dict_acc)"
   ]
  },
  {
   "cell_type": "code",
   "execution_count": 33,
   "metadata": {
    "scrolled": true
   },
   "outputs": [],
   "source": [
    "accs = pd.DataFrame(accs)"
   ]
  },
  {
   "cell_type": "code",
   "execution_count": 34,
   "metadata": {},
   "outputs": [
    {
     "data": {
      "text/html": [
       "<div>\n",
       "<style scoped>\n",
       "    .dataframe tbody tr th:only-of-type {\n",
       "        vertical-align: middle;\n",
       "    }\n",
       "\n",
       "    .dataframe tbody tr th {\n",
       "        vertical-align: top;\n",
       "    }\n",
       "\n",
       "    .dataframe thead th {\n",
       "        text-align: right;\n",
       "    }\n",
       "</style>\n",
       "<table border=\"1\" class=\"dataframe\">\n",
       "  <thead>\n",
       "    <tr style=\"text-align: right;\">\n",
       "      <th></th>\n",
       "      <th>max_depth</th>\n",
       "      <th>n_estimators</th>\n",
       "      <th>acc</th>\n",
       "    </tr>\n",
       "  </thead>\n",
       "  <tbody>\n",
       "    <tr>\n",
       "      <th>0</th>\n",
       "      <td>10.0</td>\n",
       "      <td>80</td>\n",
       "      <td>0.740529</td>\n",
       "    </tr>\n",
       "    <tr>\n",
       "      <th>1</th>\n",
       "      <td>10.0</td>\n",
       "      <td>100</td>\n",
       "      <td>0.738385</td>\n",
       "    </tr>\n",
       "    <tr>\n",
       "      <th>2</th>\n",
       "      <td>NaN</td>\n",
       "      <td>80</td>\n",
       "      <td>0.729807</td>\n",
       "    </tr>\n",
       "    <tr>\n",
       "      <th>3</th>\n",
       "      <td>NaN</td>\n",
       "      <td>100</td>\n",
       "      <td>0.733381</td>\n",
       "    </tr>\n",
       "  </tbody>\n",
       "</table>\n",
       "</div>"
      ],
      "text/plain": [
       "   max_depth  n_estimators       acc\n",
       "0       10.0            80  0.740529\n",
       "1       10.0           100  0.738385\n",
       "2        NaN            80  0.729807\n",
       "3        NaN           100  0.733381"
      ]
     },
     "execution_count": 34,
     "metadata": {},
     "output_type": "execute_result"
    }
   ],
   "source": [
    "accs"
   ]
  },
  {
   "cell_type": "code",
   "execution_count": null,
   "metadata": {},
   "outputs": [],
   "source": []
  },
  {
   "cell_type": "code",
   "execution_count": null,
   "metadata": {},
   "outputs": [],
   "source": []
  },
  {
   "cell_type": "markdown",
   "metadata": {},
   "source": [
    "## Deep neural network"
   ]
  },
  {
   "cell_type": "code",
   "execution_count": 28,
   "metadata": {},
   "outputs": [],
   "source": [
    "from tensorflow import keras\n",
    "from tensorflow import keras\n",
    "from tensorflow.keras import layers\n",
    "from tensorflow import feature_column"
   ]
  },
  {
   "cell_type": "code",
   "execution_count": 17,
   "metadata": {},
   "outputs": [
    {
     "data": {
      "text/plain": [
       "[PhysicalDevice(name='/physical_device:GPU:0', device_type='GPU')]"
      ]
     },
     "execution_count": 17,
     "metadata": {},
     "output_type": "execute_result"
    }
   ],
   "source": [
    "tf.config.list_physical_devices('GPU')"
   ]
  },
  {
   "cell_type": "code",
   "execution_count": 19,
   "metadata": {},
   "outputs": [],
   "source": [
    "dataframe = pd.read_csv('train.txt',  delimiter='\\s+', names=names)"
   ]
  },
  {
   "cell_type": "code",
   "execution_count": 20,
   "metadata": {},
   "outputs": [
    {
     "name": "stdout",
     "output_type": "stream",
     "text": [
      "Using 5598 samples for training and 1399 for validation\n"
     ]
    }
   ],
   "source": [
    "val_dataframe = dataframe.sample(frac=0.2, random_state=1)\n",
    "train_dataframe = dataframe.drop(val_dataframe.index)\n",
    "\n",
    "print(\n",
    "    \"Using %d samples for training and %d for validation\"\n",
    "    % (len(train_dataframe), len(val_dataframe))\n",
    ")"
   ]
  },
  {
   "cell_type": "code",
   "execution_count": 21,
   "metadata": {},
   "outputs": [],
   "source": [
    "def dataframe_to_dataset(dataframe):\n",
    "    dataframe = dataframe.copy()\n",
    "    labels = dataframe.pop(\"Class\")\n",
    "    ds = tf.data.Dataset.from_tensor_slices((dict(dataframe), labels))\n",
    "    ds = ds.shuffle(buffer_size=len(dataframe))\n",
    "    return ds\n",
    "\n",
    "\n",
    "train_ds = dataframe_to_dataset(train_dataframe)\n",
    "val_ds = dataframe_to_dataset(val_dataframe)"
   ]
  },
  {
   "cell_type": "code",
   "execution_count": 25,
   "metadata": {},
   "outputs": [
    {
     "name": "stdout",
     "output_type": "stream",
     "text": [
      "Input: {'B1': <tf.Tensor: shape=(), dtype=int32, numpy=0>, 'B2': <tf.Tensor: shape=(), dtype=int32, numpy=1>, 'B3': <tf.Tensor: shape=(), dtype=int32, numpy=0>, 'C1': <tf.Tensor: shape=(), dtype=float64, numpy=0.45>, 'C2': <tf.Tensor: shape=(), dtype=float64, numpy=1.62>, 'C3': <tf.Tensor: shape=(), dtype=float64, numpy=1.035>, 'C4': <tf.Tensor: shape=(), dtype=float64, numpy=0.54>, 'C5': <tf.Tensor: shape=(), dtype=float64, numpy=1.98>, 'C6': <tf.Tensor: shape=(), dtype=float64, numpy=1.44>, 'C7': <tf.Tensor: shape=(), dtype=float64, numpy=0.0>, 'C8': <tf.Tensor: shape=(), dtype=float64, numpy=0.0>, 'C9': <tf.Tensor: shape=(), dtype=float64, numpy=0.0>, 'C10': <tf.Tensor: shape=(), dtype=float64, numpy=0.72>, 'C11': <tf.Tensor: shape=(), dtype=float64, numpy=0.81>, 'C12': <tf.Tensor: shape=(), dtype=float64, numpy=0.0>, 'C13': <tf.Tensor: shape=(), dtype=float64, numpy=25.29>, 'C14': <tf.Tensor: shape=(), dtype=float64, numpy=0.0>, 'C15': <tf.Tensor: shape=(), dtype=float64, numpy=0.0>, 'C16': <tf.Tensor: shape=(), dtype=float64, numpy=0.0>, 'C17': <tf.Tensor: shape=(), dtype=float64, numpy=72.9992>, 'C18': <tf.Tensor: shape=(), dtype=float64, numpy=6.4486>, 'C19': <tf.Tensor: shape=(), dtype=float64, numpy=0.6967>, 'C20': <tf.Tensor: shape=(), dtype=float64, numpy=0.0>, 'C21': <tf.Tensor: shape=(), dtype=float64, numpy=1.234>, 'C22': <tf.Tensor: shape=(), dtype=float64, numpy=0.0>, 'C23': <tf.Tensor: shape=(), dtype=float64, numpy=0.0>, 'C24': <tf.Tensor: shape=(), dtype=float64, numpy=0.0>, 'C25': <tf.Tensor: shape=(), dtype=float64, numpy=7.3861>, 'C26': <tf.Tensor: shape=(), dtype=float64, numpy=1807.7125>, 'C27': <tf.Tensor: shape=(), dtype=float64, numpy=0.0>, 'C28': <tf.Tensor: shape=(), dtype=float64, numpy=0.0>, 'C29': <tf.Tensor: shape=(), dtype=float64, numpy=0.0>, 'C30': <tf.Tensor: shape=(), dtype=float64, numpy=0.0>, 'C31': <tf.Tensor: shape=(), dtype=float64, numpy=0.45>, 'C32': <tf.Tensor: shape=(), dtype=float64, numpy=542.43>, 'C33': <tf.Tensor: shape=(), dtype=float64, numpy=68.58>, 'C34': <tf.Tensor: shape=(), dtype=float64, numpy=6.75>, 'C35': <tf.Tensor: shape=(), dtype=float64, numpy=1.98>, 'C36': <tf.Tensor: shape=(), dtype=float64, numpy=14.04>, 'C37': <tf.Tensor: shape=(), dtype=float64, numpy=0.0>, 'C38': <tf.Tensor: shape=(), dtype=float64, numpy=0.0>, 'C39': <tf.Tensor: shape=(), dtype=float64, numpy=0.0>, 'C40': <tf.Tensor: shape=(), dtype=float64, numpy=472.95>, 'C41': <tf.Tensor: shape=(), dtype=float64, numpy=21367.53>, 'C42': <tf.Tensor: shape=(), dtype=float64, numpy=0.0>, 'C43': <tf.Tensor: shape=(), dtype=float64, numpy=25.29>, 'C44': <tf.Tensor: shape=(), dtype=float64, numpy=0.0>, 'C45': <tf.Tensor: shape=(), dtype=float64, numpy=0.0>, 'C46': <tf.Tensor: shape=(), dtype=float64, numpy=0.016>, 'C47': <tf.Tensor: shape=(), dtype=float64, numpy=8.8347>, 'C48': <tf.Tensor: shape=(), dtype=float64, numpy=1.7280000000000002>, 'C49': <tf.Tensor: shape=(), dtype=float64, numpy=0.2453>, 'C50': <tf.Tensor: shape=(), dtype=float64, numpy=0.0373>, 'C51': <tf.Tensor: shape=(), dtype=float64, numpy=0.2773>, 'C52': <tf.Tensor: shape=(), dtype=float64, numpy=0.0>, 'C53': <tf.Tensor: shape=(), dtype=float64, numpy=0.0>, 'C54': <tf.Tensor: shape=(), dtype=float64, numpy=0.0>, 'C55': <tf.Tensor: shape=(), dtype=float64, numpy=10.3267>, 'C56': <tf.Tensor: shape=(), dtype=float64, numpy=16.5187>, 'C57': <tf.Tensor: shape=(), dtype=float64, numpy=0.0>, 'C58': <tf.Tensor: shape=(), dtype=float64, numpy=0.1947>, 'C59': <tf.Tensor: shape=(), dtype=float64, numpy=0.0>, 'C60': <tf.Tensor: shape=(), dtype=float64, numpy=0.0>, 'C61': <tf.Tensor: shape=(), dtype=float64, numpy=0.0>, 'C62': <tf.Tensor: shape=(), dtype=float64, numpy=60.0>, 'C63': <tf.Tensor: shape=(), dtype=float64, numpy=63.541000000000004>, 'C64': <tf.Tensor: shape=(), dtype=float64, numpy=450.0>, 'C65': <tf.Tensor: shape=(), dtype=float64, numpy=0.0>, 'C66': <tf.Tensor: shape=(), dtype=float64, numpy=123.6932>, 'C67': <tf.Tensor: shape=(), dtype=float64, numpy=0.0>, 'C68': <tf.Tensor: shape=(), dtype=float64, numpy=0.0>, 'C69': <tf.Tensor: shape=(), dtype=float64, numpy=0.0>, 'C70': <tf.Tensor: shape=(), dtype=float64, numpy=94.8683>, 'C71': <tf.Tensor: shape=(), dtype=float64, numpy=60.0>, 'C72': <tf.Tensor: shape=(), dtype=float64, numpy=0.0>, 'C73': <tf.Tensor: shape=(), dtype=float64, numpy=0.0>, 'C74': <tf.Tensor: shape=(), dtype=float64, numpy=0.0>, 'C75': <tf.Tensor: shape=(), dtype=float64, numpy=0.0>, 'C76': <tf.Tensor: shape=(), dtype=float64, numpy=1.0699>, 'C77': <tf.Tensor: shape=(), dtype=float64, numpy=1.1448>, 'C78': <tf.Tensor: shape=(), dtype=float64, numpy=1.1263>, 'C79': <tf.Tensor: shape=(), dtype=float64, numpy=1.1141>, 'C80': <tf.Tensor: shape=(), dtype=float64, numpy=1.0809>, 'C81': <tf.Tensor: shape=(), dtype=float64, numpy=1.0639>, 'C82': <tf.Tensor: shape=(), dtype=float64, numpy=0.0>, 'C83': <tf.Tensor: shape=(), dtype=float64, numpy=0.0>, 'C84': <tf.Tensor: shape=(), dtype=float64, numpy=0.0>, 'C85': <tf.Tensor: shape=(), dtype=float64, numpy=1.1065>, 'C86': <tf.Tensor: shape=(), dtype=float64, numpy=1.0287>, 'C87': <tf.Tensor: shape=(), dtype=float64, numpy=0.0>, 'C88': <tf.Tensor: shape=(), dtype=float64, numpy=1.1251>, 'C89': <tf.Tensor: shape=(), dtype=float64, numpy=0.0>, 'C90': <tf.Tensor: shape=(), dtype=float64, numpy=0.0>, 'C91': <tf.Tensor: shape=(), dtype=float64, numpy=1.2>, 'C92': <tf.Tensor: shape=(), dtype=float64, numpy=21.2885>, 'C93': <tf.Tensor: shape=(), dtype=float64, numpy=11.5714>, 'C94': <tf.Tensor: shape=(), dtype=float64, numpy=5.1111>, 'C95': <tf.Tensor: shape=(), dtype=float64, numpy=1.4>, 'C96': <tf.Tensor: shape=(), dtype=float64, numpy=4.16>, 'C97': <tf.Tensor: shape=(), dtype=float64, numpy=0.0>, 'C98': <tf.Tensor: shape=(), dtype=float64, numpy=0.0>, 'C99': <tf.Tensor: shape=(), dtype=float64, numpy=0.0>, 'C100': <tf.Tensor: shape=(), dtype=float64, numpy=27.0138>, 'C101': <tf.Tensor: shape=(), dtype=float64, numpy=7.3251>, 'C102': <tf.Tensor: shape=(), dtype=float64, numpy=0.0>, 'C103': <tf.Tensor: shape=(), dtype=float64, numpy=2.1471>, 'C104': <tf.Tensor: shape=(), dtype=float64, numpy=0.0>, 'C105': <tf.Tensor: shape=(), dtype=float64, numpy=0.0>, 'C106': <tf.Tensor: shape=(), dtype=float64, numpy=0.0044>, 'C107': <tf.Tensor: shape=(), dtype=float64, numpy=0.0622>, 'C108': <tf.Tensor: shape=(), dtype=float64, numpy=0.1067>, 'C109': <tf.Tensor: shape=(), dtype=float64, numpy=0.0311>, 'C110': <tf.Tensor: shape=(), dtype=float64, numpy=0.0044>, 'C111': <tf.Tensor: shape=(), dtype=float64, numpy=0.04>, 'C112': <tf.Tensor: shape=(), dtype=float64, numpy=0.0>, 'C113': <tf.Tensor: shape=(), dtype=float64, numpy=0.0>, 'C114': <tf.Tensor: shape=(), dtype=float64, numpy=0.0>, 'C115': <tf.Tensor: shape=(), dtype=float64, numpy=1.0267>, 'C116': <tf.Tensor: shape=(), dtype=float64, numpy=0.3911>, 'C117': <tf.Tensor: shape=(), dtype=float64, numpy=0.0>, 'C118': <tf.Tensor: shape=(), dtype=float64, numpy=0.0044>, 'C119': <tf.Tensor: shape=(), dtype=float64, numpy=0.0>, 'C120': <tf.Tensor: shape=(), dtype=float64, numpy=0.0>, 'C121': <tf.Tensor: shape=(), dtype=float64, numpy=2e-05>, 'C122': <tf.Tensor: shape=(), dtype=float64, numpy=0.024108>, 'C123': <tf.Tensor: shape=(), dtype=float64, numpy=0.003048>, 'C124': <tf.Tensor: shape=(), dtype=float64, numpy=0.0003>, 'C125': <tf.Tensor: shape=(), dtype=float64, numpy=8.8e-05>, 'C126': <tf.Tensor: shape=(), dtype=float64, numpy=0.000624>, 'C127': <tf.Tensor: shape=(), dtype=float64, numpy=0.0>, 'C128': <tf.Tensor: shape=(), dtype=float64, numpy=0.0>, 'C129': <tf.Tensor: shape=(), dtype=float64, numpy=0.0>, 'C130': <tf.Tensor: shape=(), dtype=float64, numpy=0.02102>, 'C131': <tf.Tensor: shape=(), dtype=float64, numpy=0.9496680000000001>, 'C132': <tf.Tensor: shape=(), dtype=float64, numpy=0.0>, 'C133': <tf.Tensor: shape=(), dtype=float64, numpy=0.001124>, 'C134': <tf.Tensor: shape=(), dtype=float64, numpy=0.0>, 'C135': <tf.Tensor: shape=(), dtype=float64, numpy=0.0>, 'C136': <tf.Tensor: shape=(), dtype=float64, numpy=8.1585>, 'C137': <tf.Tensor: shape=(), dtype=float64, numpy=1.0925>, 'C138': <tf.Tensor: shape=(), dtype=float64, numpy=0.0693>, 'C139': <tf.Tensor: shape=(), dtype=float64, numpy=0.0971>, 'YEAR': <tf.Tensor: shape=(), dtype=float64, numpy=2003.0>, 'C140': <tf.Tensor: shape=(), dtype=float64, numpy=1221.0>, 'C141': <tf.Tensor: shape=(), dtype=float64, numpy=1227.59>, 'C142': <tf.Tensor: shape=(), dtype=float64, numpy=0.6>, 'CT1': <tf.Tensor: shape=(), dtype=float64, numpy=2.0>, 'CT2': <tf.Tensor: shape=(), dtype=float64, numpy=2.0>, 'CT3': <tf.Tensor: shape=(), dtype=float64, numpy=2.0>, 'CT4': <tf.Tensor: shape=(), dtype=float64, numpy=2.0>, 'CT5': <tf.Tensor: shape=(), dtype=float64, numpy=1.0>, 'CT6': <tf.Tensor: shape=(), dtype=float64, numpy=1.0>, 'CT7': <tf.Tensor: shape=(), dtype=float64, numpy=1.0>, 'CT8': <tf.Tensor: shape=(), dtype=float64, numpy=1.0>, 'CT9': <tf.Tensor: shape=(), dtype=float64, numpy=1.0>, 'CT10': <tf.Tensor: shape=(), dtype=float64, numpy=1.0>, 'CT11': <tf.Tensor: shape=(), dtype=float64, numpy=2.0>, 'CT12': <tf.Tensor: shape=(), dtype=float64, numpy=2.0>, 'CT13': <tf.Tensor: shape=(), dtype=float64, numpy=4.0>, 'CT14': <tf.Tensor: shape=(), dtype=float64, numpy=1.0>, 'CT15': <tf.Tensor: shape=(), dtype=float64, numpy=1.0>, 'CT16': <tf.Tensor: shape=(), dtype=float64, numpy=1.0>, 'CT17': <tf.Tensor: shape=(), dtype=float64, numpy=2.0>, 'CT18': <tf.Tensor: shape=(), dtype=float64, numpy=4.0>, 'CT19': <tf.Tensor: shape=(), dtype=float64, numpy=5.0>, 'CT20': <tf.Tensor: shape=(), dtype=float64, numpy=5.0>, 'CT21': <tf.Tensor: shape=(), dtype=float64, numpy=5.0>, 'CT22': <tf.Tensor: shape=(), dtype=float64, numpy=5.0>, 'CT23': <tf.Tensor: shape=(), dtype=float64, numpy=3.0>, 'CT24': <tf.Tensor: shape=(), dtype=float64, numpy=2.0>, 'CT25': <tf.Tensor: shape=(), dtype=float64, numpy=1.0>, 'CT26': <tf.Tensor: shape=(), dtype=float64, numpy=3.0>, 'CH1': <tf.Tensor: shape=(), dtype=float64, numpy=0.0>, 'CH2': <tf.Tensor: shape=(), dtype=float64, numpy=0.0>, 'CH3': <tf.Tensor: shape=(), dtype=float64, numpy=0.0>, 'CH4': <tf.Tensor: shape=(), dtype=float64, numpy=0.0>}\n",
      "Target: tf.Tensor(0.0, shape=(), dtype=float64)\n"
     ]
    }
   ],
   "source": [
    "for x, y in train_ds.take(1):\n",
    "    print(\"Input:\", x)\n",
    "    print(\"Target:\", y)"
   ]
  },
  {
   "cell_type": "code",
   "execution_count": 26,
   "metadata": {},
   "outputs": [],
   "source": [
    "train_ds = train_ds.batch(32)\n",
    "val_ds = val_ds.batch(32)"
   ]
  },
  {
   "cell_type": "code",
   "execution_count": 27,
   "metadata": {},
   "outputs": [
    {
     "ename": "ValueError",
     "evalue": "A `Concatenate` layer should be called on a list of at least 2 inputs",
     "output_type": "error",
     "traceback": [
      "\u001b[1;31m---------------------------------------------------------------------------\u001b[0m",
      "\u001b[1;31mValueError\u001b[0m                                Traceback (most recent call last)",
      "\u001b[1;32m<ipython-input-27-97c010626669>\u001b[0m in \u001b[0;36m<module>\u001b[1;34m\u001b[0m\n\u001b[1;32m----> 1\u001b[1;33m \u001b[0mall_features\u001b[0m \u001b[1;33m=\u001b[0m \u001b[0mlayers\u001b[0m\u001b[1;33m.\u001b[0m\u001b[0mconcatenate\u001b[0m\u001b[1;33m(\u001b[0m\u001b[0mnames\u001b[0m\u001b[1;33m.\u001b[0m\u001b[0mremove\u001b[0m\u001b[1;33m(\u001b[0m\u001b[1;34m'Class'\u001b[0m\u001b[1;33m)\u001b[0m\u001b[1;33m)\u001b[0m\u001b[1;33m\u001b[0m\u001b[1;33m\u001b[0m\u001b[0m\n\u001b[0m",
      "\u001b[1;32m~\\Anaconda3\\envs\\tf-gpu\\lib\\site-packages\\tensorflow_core\\python\\keras\\layers\\merge.py\u001b[0m in \u001b[0;36mconcatenate\u001b[1;34m(inputs, axis, **kwargs)\u001b[0m\n\u001b[0;32m    714\u001b[0m       \u001b[0mA\u001b[0m \u001b[0mtensor\u001b[0m\u001b[1;33m,\u001b[0m \u001b[0mthe\u001b[0m \u001b[0mconcatenation\u001b[0m \u001b[0mof\u001b[0m \u001b[0mthe\u001b[0m \u001b[0minputs\u001b[0m \u001b[0malongside\u001b[0m \u001b[0maxis\u001b[0m\u001b[0;31m \u001b[0m\u001b[0;31m`\u001b[0m\u001b[0maxis\u001b[0m\u001b[0;31m`\u001b[0m\u001b[1;33m.\u001b[0m\u001b[1;33m\u001b[0m\u001b[1;33m\u001b[0m\u001b[0m\n\u001b[0;32m    715\u001b[0m   \"\"\"\n\u001b[1;32m--> 716\u001b[1;33m   \u001b[1;32mreturn\u001b[0m \u001b[0mConcatenate\u001b[0m\u001b[1;33m(\u001b[0m\u001b[0maxis\u001b[0m\u001b[1;33m=\u001b[0m\u001b[0maxis\u001b[0m\u001b[1;33m,\u001b[0m \u001b[1;33m**\u001b[0m\u001b[0mkwargs\u001b[0m\u001b[1;33m)\u001b[0m\u001b[1;33m(\u001b[0m\u001b[0minputs\u001b[0m\u001b[1;33m)\u001b[0m\u001b[1;33m\u001b[0m\u001b[1;33m\u001b[0m\u001b[0m\n\u001b[0m\u001b[0;32m    717\u001b[0m \u001b[1;33m\u001b[0m\u001b[0m\n\u001b[0;32m    718\u001b[0m \u001b[1;33m\u001b[0m\u001b[0m\n",
      "\u001b[1;32m~\\Anaconda3\\envs\\tf-gpu\\lib\\site-packages\\tensorflow_core\\python\\keras\\engine\\base_layer.py\u001b[0m in \u001b[0;36m__call__\u001b[1;34m(self, inputs, *args, **kwargs)\u001b[0m\n\u001b[0;32m    816\u001b[0m         \u001b[1;31m# Eager execution on data tensors.\u001b[0m\u001b[1;33m\u001b[0m\u001b[1;33m\u001b[0m\u001b[1;33m\u001b[0m\u001b[0m\n\u001b[0;32m    817\u001b[0m         \u001b[1;32mwith\u001b[0m \u001b[0mbackend\u001b[0m\u001b[1;33m.\u001b[0m\u001b[0mname_scope\u001b[0m\u001b[1;33m(\u001b[0m\u001b[0mself\u001b[0m\u001b[1;33m.\u001b[0m\u001b[0m_name_scope\u001b[0m\u001b[1;33m(\u001b[0m\u001b[1;33m)\u001b[0m\u001b[1;33m)\u001b[0m\u001b[1;33m:\u001b[0m\u001b[1;33m\u001b[0m\u001b[1;33m\u001b[0m\u001b[0m\n\u001b[1;32m--> 818\u001b[1;33m           \u001b[0mself\u001b[0m\u001b[1;33m.\u001b[0m\u001b[0m_maybe_build\u001b[0m\u001b[1;33m(\u001b[0m\u001b[0minputs\u001b[0m\u001b[1;33m)\u001b[0m\u001b[1;33m\u001b[0m\u001b[1;33m\u001b[0m\u001b[0m\n\u001b[0m\u001b[0;32m    819\u001b[0m           \u001b[0mcast_inputs\u001b[0m \u001b[1;33m=\u001b[0m \u001b[0mself\u001b[0m\u001b[1;33m.\u001b[0m\u001b[0m_maybe_cast_inputs\u001b[0m\u001b[1;33m(\u001b[0m\u001b[0minputs\u001b[0m\u001b[1;33m)\u001b[0m\u001b[1;33m\u001b[0m\u001b[1;33m\u001b[0m\u001b[0m\n\u001b[0;32m    820\u001b[0m           with base_layer_utils.autocast_context_manager(\n",
      "\u001b[1;32m~\\Anaconda3\\envs\\tf-gpu\\lib\\site-packages\\tensorflow_core\\python\\keras\\engine\\base_layer.py\u001b[0m in \u001b[0;36m_maybe_build\u001b[1;34m(self, inputs)\u001b[0m\n\u001b[0;32m   2114\u001b[0m         \u001b[1;31m# operations.\u001b[0m\u001b[1;33m\u001b[0m\u001b[1;33m\u001b[0m\u001b[1;33m\u001b[0m\u001b[0m\n\u001b[0;32m   2115\u001b[0m         \u001b[1;32mwith\u001b[0m \u001b[0mtf_utils\u001b[0m\u001b[1;33m.\u001b[0m\u001b[0mmaybe_init_scope\u001b[0m\u001b[1;33m(\u001b[0m\u001b[0mself\u001b[0m\u001b[1;33m)\u001b[0m\u001b[1;33m:\u001b[0m\u001b[1;33m\u001b[0m\u001b[1;33m\u001b[0m\u001b[0m\n\u001b[1;32m-> 2116\u001b[1;33m           \u001b[0mself\u001b[0m\u001b[1;33m.\u001b[0m\u001b[0mbuild\u001b[0m\u001b[1;33m(\u001b[0m\u001b[0minput_shapes\u001b[0m\u001b[1;33m)\u001b[0m\u001b[1;33m\u001b[0m\u001b[1;33m\u001b[0m\u001b[0m\n\u001b[0m\u001b[0;32m   2117\u001b[0m       \u001b[1;31m# We must set self.built since user defined build functions are not\u001b[0m\u001b[1;33m\u001b[0m\u001b[1;33m\u001b[0m\u001b[1;33m\u001b[0m\u001b[0m\n\u001b[0;32m   2118\u001b[0m       \u001b[1;31m# constrained to set self.built.\u001b[0m\u001b[1;33m\u001b[0m\u001b[1;33m\u001b[0m\u001b[1;33m\u001b[0m\u001b[0m\n",
      "\u001b[1;32m~\\Anaconda3\\envs\\tf-gpu\\lib\\site-packages\\tensorflow_core\\python\\keras\\utils\\tf_utils.py\u001b[0m in \u001b[0;36mwrapper\u001b[1;34m(instance, input_shape)\u001b[0m\n\u001b[0;32m    304\u001b[0m     \u001b[1;32mif\u001b[0m \u001b[0minput_shape\u001b[0m \u001b[1;32mis\u001b[0m \u001b[1;32mnot\u001b[0m \u001b[1;32mNone\u001b[0m\u001b[1;33m:\u001b[0m\u001b[1;33m\u001b[0m\u001b[1;33m\u001b[0m\u001b[0m\n\u001b[0;32m    305\u001b[0m       \u001b[0minput_shape\u001b[0m \u001b[1;33m=\u001b[0m \u001b[0mconvert_shapes\u001b[0m\u001b[1;33m(\u001b[0m\u001b[0minput_shape\u001b[0m\u001b[1;33m,\u001b[0m \u001b[0mto_tuples\u001b[0m\u001b[1;33m=\u001b[0m\u001b[1;32mTrue\u001b[0m\u001b[1;33m)\u001b[0m\u001b[1;33m\u001b[0m\u001b[1;33m\u001b[0m\u001b[0m\n\u001b[1;32m--> 306\u001b[1;33m     \u001b[0moutput_shape\u001b[0m \u001b[1;33m=\u001b[0m \u001b[0mfn\u001b[0m\u001b[1;33m(\u001b[0m\u001b[0minstance\u001b[0m\u001b[1;33m,\u001b[0m \u001b[0minput_shape\u001b[0m\u001b[1;33m)\u001b[0m\u001b[1;33m\u001b[0m\u001b[1;33m\u001b[0m\u001b[0m\n\u001b[0m\u001b[0;32m    307\u001b[0m     \u001b[1;31m# Return shapes from `fn` as TensorShapes.\u001b[0m\u001b[1;33m\u001b[0m\u001b[1;33m\u001b[0m\u001b[1;33m\u001b[0m\u001b[0m\n\u001b[0;32m    308\u001b[0m     \u001b[1;32mif\u001b[0m \u001b[0moutput_shape\u001b[0m \u001b[1;32mis\u001b[0m \u001b[1;32mnot\u001b[0m \u001b[1;32mNone\u001b[0m\u001b[1;33m:\u001b[0m\u001b[1;33m\u001b[0m\u001b[1;33m\u001b[0m\u001b[0m\n",
      "\u001b[1;32m~\\Anaconda3\\envs\\tf-gpu\\lib\\site-packages\\tensorflow_core\\python\\keras\\layers\\merge.py\u001b[0m in \u001b[0;36mbuild\u001b[1;34m(self, input_shape)\u001b[0m\n\u001b[0;32m    373\u001b[0m     \u001b[1;31m# Used purely for shape validation.\u001b[0m\u001b[1;33m\u001b[0m\u001b[1;33m\u001b[0m\u001b[1;33m\u001b[0m\u001b[0m\n\u001b[0;32m    374\u001b[0m     \u001b[1;32mif\u001b[0m \u001b[1;32mnot\u001b[0m \u001b[0misinstance\u001b[0m\u001b[1;33m(\u001b[0m\u001b[0minput_shape\u001b[0m\u001b[1;33m,\u001b[0m \u001b[0mlist\u001b[0m\u001b[1;33m)\u001b[0m \u001b[1;32mor\u001b[0m \u001b[0mlen\u001b[0m\u001b[1;33m(\u001b[0m\u001b[0minput_shape\u001b[0m\u001b[1;33m)\u001b[0m \u001b[1;33m<\u001b[0m \u001b[1;36m2\u001b[0m\u001b[1;33m:\u001b[0m\u001b[1;33m\u001b[0m\u001b[1;33m\u001b[0m\u001b[0m\n\u001b[1;32m--> 375\u001b[1;33m       raise ValueError('A `Concatenate` layer should be called '\n\u001b[0m\u001b[0;32m    376\u001b[0m                        'on a list of at least 2 inputs')\n\u001b[0;32m    377\u001b[0m     \u001b[1;32mif\u001b[0m \u001b[0mall\u001b[0m\u001b[1;33m(\u001b[0m\u001b[0mshape\u001b[0m \u001b[1;32mis\u001b[0m \u001b[1;32mNone\u001b[0m \u001b[1;32mfor\u001b[0m \u001b[0mshape\u001b[0m \u001b[1;32min\u001b[0m \u001b[0minput_shape\u001b[0m\u001b[1;33m)\u001b[0m\u001b[1;33m:\u001b[0m\u001b[1;33m\u001b[0m\u001b[1;33m\u001b[0m\u001b[0m\n",
      "\u001b[1;31mValueError\u001b[0m: A `Concatenate` layer should be called on a list of at least 2 inputs"
     ]
    }
   ],
   "source": [
    "all_features = layers.concatenate()"
   ]
  },
  {
   "cell_type": "code",
   "execution_count": null,
   "metadata": {},
   "outputs": [],
   "source": [
    "x = layers.Dense(32, activation=\"relu\")(all_features)\n",
    "x = layers.Dropout(0.5)(x)\n",
    "output = layers.Dense(1, activation=\"sigmoid\")(x)\n",
    "model = keras.Model(all_inputs, output)\n",
    "model.compile(\"adam\", \"binary_crossentropy\", metrics=[\"accuracy\"])"
   ]
  },
  {
   "cell_type": "code",
   "execution_count": null,
   "metadata": {},
   "outputs": [],
   "source": []
  },
  {
   "cell_type": "code",
   "execution_count": null,
   "metadata": {},
   "outputs": [],
   "source": []
  },
  {
   "cell_type": "code",
   "execution_count": null,
   "metadata": {},
   "outputs": [],
   "source": []
  },
  {
   "cell_type": "code",
   "execution_count": null,
   "metadata": {},
   "outputs": [],
   "source": []
  },
  {
   "cell_type": "code",
   "execution_count": null,
   "metadata": {},
   "outputs": [],
   "source": []
  },
  {
   "cell_type": "markdown",
   "metadata": {},
   "source": [
    "Validation"
   ]
  },
  {
   "cell_type": "code",
   "execution_count": null,
   "metadata": {},
   "outputs": [],
   "source": []
  },
  {
   "cell_type": "code",
   "execution_count": null,
   "metadata": {},
   "outputs": [],
   "source": []
  },
  {
   "cell_type": "code",
   "execution_count": null,
   "metadata": {},
   "outputs": [],
   "source": []
  },
  {
   "cell_type": "code",
   "execution_count": null,
   "metadata": {},
   "outputs": [],
   "source": []
  }
 ],
 "metadata": {
  "kernelspec": {
   "display_name": "Python 3",
   "language": "python",
   "name": "python3"
  },
  "language_info": {
   "codemirror_mode": {
    "name": "ipython",
    "version": 3
   },
   "file_extension": ".py",
   "mimetype": "text/x-python",
   "name": "python",
   "nbconvert_exporter": "python",
   "pygments_lexer": "ipython3",
   "version": "3.7.9"
  }
 },
 "nbformat": 4,
 "nbformat_minor": 4
}
